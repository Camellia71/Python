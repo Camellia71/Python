{
 "cells": [
  {
   "cell_type": "markdown",
   "id": "17e7c17ef70f4255",
   "metadata": {},
   "source": [
    "What is vectorization(向量化)？"
   ]
  },
  {
   "cell_type": "code",
   "id": "3c6fee867b8d9636",
   "metadata": {
    "ExecuteTime": {
     "end_time": "2025-02-24T12:07:01.108221Z",
     "start_time": "2025-02-24T12:07:01.102224Z"
    }
   },
   "source": [
    "import numpy as np\n",
    "a=np.array([1,2,3,4])\n",
    "print(a)"
   ],
   "outputs": [
    {
     "name": "stdout",
     "output_type": "stream",
     "text": [
      "[1 2 3 4]\n"
     ]
    }
   ],
   "execution_count": 13
  },
  {
   "cell_type": "code",
   "execution_count": null,
   "id": "eb8b424c40d55401",
   "metadata": {
    "ExecuteTime": {
     "end_time": "2025-02-24T11:28:13.464269Z",
     "start_time": "2025-02-24T11:28:13.433065Z"
    }
   },
   "outputs": [],
   "source": [
    "import time\n",
    "a=np.random.rand(1000000)\n",
    "b=np.random.rand(1000000)\n",
    "\n",
    "tic=time.time()\n",
    "c=np.dot(a,b)\n",
    "toc=time.time()\n",
    "\n",
    "print(c)\n",
    "print(\"Vectorised version:\"+str(1000*(toc-tic))+\"ms\")"
   ]
  },
  {
   "cell_type": "code",
   "execution_count": null,
   "id": "ec90fa46593f2918",
   "metadata": {
    "ExecuteTime": {
     "end_time": "2025-02-24T11:28:13.743699Z",
     "start_time": "2025-02-24T11:28:13.466275Z"
    }
   },
   "outputs": [],
   "source": [
    "c=0\n",
    "tic=time.time()\n",
    "for i in range(1000000):\n",
    "    c+=a[i]*b[i]\n",
    "toc=time.time()\n",
    "\n",
    "print(c)\n",
    "print(\"For loop:\"+str(1000*(toc-tic))+\"ms\")"
   ]
  }
 ],
 "metadata": {
  "kernelspec": {
   "display_name": "Python 3",
   "language": "python",
   "name": "python3"
  },
  "language_info": {
   "codemirror_mode": {
    "name": "ipython",
    "version": 2
   },
   "file_extension": ".py",
   "mimetype": "text/x-python",
   "name": "python",
   "nbconvert_exporter": "python",
   "pygments_lexer": "ipython2",
   "version": "2.7.6"
  }
 },
 "nbformat": 4,
 "nbformat_minor": 5
}
