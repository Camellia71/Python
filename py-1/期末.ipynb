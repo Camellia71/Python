{
 "cells": [
  {
   "cell_type": "markdown",
   "metadata": {},
   "source": [
    "给定两个均不超过9的正整数a和n，要求编写函数fn(a,n) 求a+aa+aaa++⋯+aa⋯aa(n个a）之和，fn须返回的是数列和"
   ]
  },
  {
   "cell_type": "code",
   "execution_count": null,
   "metadata": {},
   "outputs": [],
   "source": [
    "def fn(a, n):\n",
    "    total = 0\n",
    "    current = 0\n",
    "    for i in range(n):\n",
    "        current = current * 10 + a\n",
    "        total += current\n",
    "    return total"
   ]
  },
  {
   "cell_type": "code",
   "execution_count": null,
   "metadata": {},
   "outputs": [],
   "source": [
    "def fn(a,n):\n",
    "    count = 0\n",
    "    total = 0\n",
    "    for i in range(n):\n",
    "        count = count * 10 + a\n",
    "        total += count\n",
    "    return total"
   ]
  },
  {
   "cell_type": "markdown",
   "metadata": {},
   "source": [
    "使用函数求素数和\n",
    "\n",
    "prime(p), 其中函数prime当用户传入参数p为素数时返回True，否则返回False.\n",
    "PrimeSum(m,n),函数PrimeSum返回区间[m, n]内所有素数的和。题目保证用户传入的参数1<=m<n。"
   ]
  },
  {
   "cell_type": "code",
   "execution_count": null,
   "metadata": {},
   "outputs": [],
   "source": [
    "def prime(p):\n",
    "    if p < 2:\n",
    "        return False\n",
    "    for i in range(2, int(p ** 0.5) + 1):\n",
    "        if p % i == 0:\n",
    "            return False\n",
    "    return True\n",
    "\n",
    "def PrimeSum(m, n):\n",
    "    sum_result = 0\n",
    "    for num in range(m, n):\n",
    "        if prime(num):\n",
    "            sum_result += num\n",
    "    return sum_result\n",
    "# PrimeSum(2,10)"
   ]
  },
  {
   "cell_type": "code",
   "execution_count": null,
   "metadata": {},
   "outputs": [
    {
     "data": {
      "text/plain": [
       "17"
      ]
     },
     "execution_count": 5,
     "metadata": {},
     "output_type": "execute_result"
    }
   ],
   "source": [
    "def prime(p):\n",
    "    if p < 2:\n",
    "        return False\n",
    "    for i in range(2,int(p**0.5)+1):\n",
    "        if(p % i == 0):\n",
    "            return False\n",
    "    return True\n",
    "def PrimeSum(m,n):\n",
    "    sum = 0\n",
    "    for i in range(m, n):\n",
    "        if(prime(i)):\n",
    "            sum += i\n",
    "    return sum\n",
    "# PrimeSum(2,10)"
   ]
  },
  {
   "cell_type": "markdown",
   "metadata": {},
   "source": [
    "本题要求实现一个统计整数中指定数字的个数的简单函数。\n",
    "\n",
    "CountDigit(number,digit )\n",
    "\n",
    "其中number是整数，digit为[1, 9]区间内的整数。函数CountDigit应返回number中digit出现的次数。"
   ]
  },
  {
   "cell_type": "code",
   "execution_count": null,
   "metadata": {},
   "outputs": [
    {
     "data": {
      "text/plain": [
       "2"
      ]
     },
     "execution_count": 7,
     "metadata": {},
     "output_type": "execute_result"
    }
   ],
   "source": [
    "def CountDigit(number,digit):\n",
    "    count = 0\n",
    "    while number // 10 != 0:\n",
    "        if digit == number % 10:\n",
    "            count += 1\n",
    "        number = number // 10\n",
    "    return count\n",
    "CountDigit(11223344,3)"
   ]
  },
  {
   "cell_type": "markdown",
   "metadata": {},
   "source": [
    "（函数计算）编写函数计算f(i) = 1/2 + 2/3 + 3/4 + ... + i/(i+1) 。"
   ]
  },
  {
   "cell_type": "code",
   "execution_count": null,
   "metadata": {},
   "outputs": [],
   "source": [
    "def f(i):\n",
    "    sum = 0\n",
    "    for i in range(1,i):\n",
    "        sum += i/(1+i)\n",
    "    return sum"
   ]
  },
  {
   "cell_type": "markdown",
   "metadata": {},
   "source": [
    "本题要求实现一个函数mult3()，带一个整数列表作为输入参数，仅仅输出列表中是3的倍数的那些数值，每个值占一行"
   ]
  },
  {
   "cell_type": "code",
   "execution_count": null,
   "metadata": {},
   "outputs": [],
   "source": [
    "def mult3(lst):\n",
    "    for i in list:\n",
    "        if i % 3 == 0:\n",
    "            print(i)"
   ]
  },
  {
   "cell_type": "markdown",
   "metadata": {},
   "source": [
    "中值是位于按数值排序的集合正中间位置的数据项。如果数据项个数为奇数，则中值是最中间的值；如果数据项个数为偶数，则中值是两个中间值的平均值。\n",
    "编写一个函数计算一个列表的数据的中值。\n",
    "要求调用该函数求一组人年龄的中值。"
   ]
  },
  {
   "cell_type": "code",
   "execution_count": 1,
   "metadata": {},
   "outputs": [],
   "source": [
    "def median(aList):\n",
    "    # 将字符串列表转换为整数列表\n",
    "    numbers = [int(x) for x in aList]\n",
    "    # 按升序排序\n",
    "    numbers.sort()\n",
    "    n = len(numbers)\n",
    "    # 如果长度为奇数，返回中间值\n",
    "    if n % 2 == 1:\n",
    "        return numbers[n // 2]\n",
    "    # 如果长度为偶数，返回中间两个值的平均值\n",
    "    else:\n",
    "        mid1 = numbers[(n // 2) - 1]\n",
    "        mid2 = numbers[n // 2]\n",
    "        return (mid1 + mid2) / 2"
   ]
  },
  {
   "cell_type": "markdown",
   "metadata": {},
   "source": [
    "编写一个函数，判断用户传入的列表长度是否大于2，如果大于2，只保留前两个，并将新内容返回给调用者。"
   ]
  },
  {
   "cell_type": "code",
   "execution_count": 2,
   "metadata": {},
   "outputs": [],
   "source": [
    "def func(list1):\n",
    "    if len(list1) < 2:\n",
    "        return list1\n",
    "    else:\n",
    "        return list1[0:2]"
   ]
  },
  {
   "cell_type": "markdown",
   "metadata": {},
   "source": [
    "用户输入一个正整数N,计算并输出小于N的最大素数。"
   ]
  },
  {
   "cell_type": "code",
   "execution_count": null,
   "metadata": {},
   "outputs": [],
   "source": [
    "def prime(num):\n",
    "    if num < 2:\n",
    "        return False\n",
    "    else:\n",
    "        for i in range(2,int(num**0.5)+1):\n",
    "            if num % i == 0:\n",
    "                return False\n",
    "    return True\n",
    "n = int(input())\n",
    "for i in range(n-1,1,-1):\n",
    "    if prime(i):\n",
    "        print(i)"
   ]
  },
  {
   "cell_type": "markdown",
   "metadata": {},
   "source": [
    "输入的N个字符串，输出其中最长的字符串。"
   ]
  },
  {
   "cell_type": "code",
   "execution_count": 1,
   "metadata": {},
   "outputs": [
    {
     "ename": "ValueError",
     "evalue": "invalid literal for int() with base 10: ''",
     "output_type": "error",
     "traceback": [
      "\u001b[31m---------------------------------------------------------------------------\u001b[39m",
      "\u001b[31mValueError\u001b[39m                                Traceback (most recent call last)",
      "\u001b[36mCell\u001b[39m\u001b[36m \u001b[39m\u001b[32mIn[1]\u001b[39m\u001b[32m, line 1\u001b[39m\n\u001b[32m----> \u001b[39m\u001b[32m1\u001b[39m n = \u001b[38;5;28;43mint\u001b[39;49m\u001b[43m(\u001b[49m\u001b[38;5;28;43minput\u001b[39;49m\u001b[43m(\u001b[49m\u001b[43m)\u001b[49m\u001b[43m)\u001b[49m\n\u001b[32m      2\u001b[39m longest = \u001b[38;5;28minput\u001b[39m()\n\u001b[32m      3\u001b[39m \u001b[38;5;28;01mfor\u001b[39;00m i \u001b[38;5;129;01min\u001b[39;00m \u001b[38;5;28mrange\u001b[39m(\u001b[32m1\u001b[39m,n-\u001b[32m1\u001b[39m):\n",
      "\u001b[31mValueError\u001b[39m: invalid literal for int() with base 10: ''"
     ]
    }
   ],
   "source": [
    "n = int(input())\n",
    "longest = input()\n",
    "for i in range(1,n-1):\n",
    "    s = input()\n",
    "    if len(s) > len(longest):\n",
    "        longest = s\n",
    "print(f\"最长的是:{longest}\")"
   ]
  },
  {
   "cell_type": "markdown",
   "metadata": {},
   "source": [
    "一个合格的密码应该符合下面规则：\n",
    "• 密码至少有8个字符。\n",
    "• 密码包括大小写英文字母、数字和其他符号。\n",
    "编写程序检测一个字符串是否是一个合格的密码，程序输入一个密码（字符串），如果合格就显示'valid password'，否则，就显示'invalid password'"
   ]
  },
  {
   "cell_type": "code",
   "execution_count": 2,
   "metadata": {},
   "outputs": [
    {
     "name": "stdout",
     "output_type": "stream",
     "text": [
      "invalid password\n"
     ]
    }
   ],
   "source": [
    "password = input()\n",
    "is_upper = any(c.isupper() for c in password)\n",
    "is_lower = any(c.islower() for c in password)\n",
    "is_digit = any(c.isdigit() for c in password)\n",
    "is_special = not(password.isalnum)\n",
    "if len(password) >= 8 and is_upper and is_lower and is_digit and is_special:\n",
    "    print(\"valid password\")\n",
    "else:\n",
    "    print(\"invalid password\")"
   ]
  },
  {
   "cell_type": "markdown",
   "metadata": {},
   "source": [
    "本题目要求读入1个整数A，然后输出20/A的值，保留两位小数；如果输入不正确，则输出相应的异常信息。"
   ]
  },
  {
   "cell_type": "code",
   "execution_count": null,
   "metadata": {},
   "outputs": [],
   "source": [
    "try:\n",
    "    A = int(input())\n",
    "    result = 20 // A\n",
    "except ValueError:\n",
    "    print(\"1\")\n",
    "except ZeroDivisionError:\n",
    "    print(\"2\")\n",
    "else:\n",
    "    print(\"dei\")"
   ]
  }
 ],
 "metadata": {
  "kernelspec": {
   "display_name": "Python 3",
   "language": "python",
   "name": "python3"
  },
  "language_info": {
   "codemirror_mode": {
    "name": "ipython",
    "version": 3
   },
   "file_extension": ".py",
   "mimetype": "text/x-python",
   "name": "python",
   "nbconvert_exporter": "python",
   "pygments_lexer": "ipython3",
   "version": "3.13.2"
  }
 },
 "nbformat": 4,
 "nbformat_minor": 2
}
