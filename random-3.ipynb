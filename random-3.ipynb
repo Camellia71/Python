{
 "cells": [
  {
   "cell_type": "code",
   "execution_count": 58,
   "metadata": {},
   "outputs": [],
   "source": [
    "import numpy as np\n",
    "import pandas as pd\n",
    "from sklearn.model_selection import train_test_split\n",
    "from sklearn.ensemble import RandomForestRegressor\n",
    "from sklearn.metrics import mean_absolute_error, mean_squared_error, r2_score\n",
    "from sklearn.preprocessing import OneHotEncoder\n",
    "from sklearn.compose import ColumnTransformer\n",
    "from sklearn.pipeline import Pipeline\n",
    "import matplotlib.pyplot as plt\n",
    "import joblib  # 用于保存和加载模型\n"
   ]
  },
  {
   "cell_type": "code",
   "execution_count": 59,
   "metadata": {},
   "outputs": [
    {
     "name": "stderr",
     "output_type": "stream",
     "text": [
      "<>:5: SyntaxWarning: invalid escape sequence '\\E'\n",
      "<>:5: SyntaxWarning: invalid escape sequence '\\E'\n",
      "C:\\Users\\lenovo\\AppData\\Local\\Temp\\ipykernel_30232\\1430494551.py:5: SyntaxWarning: invalid escape sequence '\\E'\n",
      "  data = pd.read_excel(\"E:\\张岐奕1\\EPI\\github\\Python\\\\random forest\\\\random.xlsx\")  # 方法2：从Excel加载\n"
     ]
    }
   ],
   "source": [
    "# 1. 加载真实数据（替换为你的数据文件路径）\n",
    "try:\n",
    "    # 支持CSV或Excel格式\n",
    "    # data = pd.read_csv(\"drone_flight_data.csv\")  # 方法1：从CSV加载\n",
    "    data = pd.read_excel(\"E:\\张岐奕1\\EPI\\github\\Python\\\\random forest\\\\random.xlsx\")  # 方法2：从Excel加载\n",
    "except FileNotFoundError:\n",
    "    print(\"错误：未找到数据文件！请检查文件路径\")\n",
    "    exit()\n",
    "\n",
    "# 检查数据是否包含必需的列\n",
    "\n"
   ]
  },
  {
   "cell_type": "code",
   "execution_count": 60,
   "metadata": {},
   "outputs": [
    {
     "data": {
      "text/html": [
       "<div>\n",
       "<style scoped>\n",
       "    .dataframe tbody tr th:only-of-type {\n",
       "        vertical-align: middle;\n",
       "    }\n",
       "\n",
       "    .dataframe tbody tr th {\n",
       "        vertical-align: top;\n",
       "    }\n",
       "\n",
       "    .dataframe thead th {\n",
       "        text-align: right;\n",
       "    }\n",
       "</style>\n",
       "<table border=\"1\" class=\"dataframe\">\n",
       "  <thead>\n",
       "    <tr style=\"text-align: right;\">\n",
       "      <th></th>\n",
       "      <th>temperature</th>\n",
       "      <th>altitude</th>\n",
       "      <th>environment_type</th>\n",
       "      <th>flight_time</th>\n",
       "    </tr>\n",
       "  </thead>\n",
       "  <tbody>\n",
       "    <tr>\n",
       "      <th>0</th>\n",
       "      <td>-15</td>\n",
       "      <td>0</td>\n",
       "      <td>urban</td>\n",
       "      <td>34.96</td>\n",
       "    </tr>\n",
       "    <tr>\n",
       "      <th>1</th>\n",
       "      <td>-10</td>\n",
       "      <td>0</td>\n",
       "      <td>urban</td>\n",
       "      <td>38.64</td>\n",
       "    </tr>\n",
       "    <tr>\n",
       "      <th>2</th>\n",
       "      <td>-5</td>\n",
       "      <td>0</td>\n",
       "      <td>urban</td>\n",
       "      <td>42.32</td>\n",
       "    </tr>\n",
       "    <tr>\n",
       "      <th>3</th>\n",
       "      <td>0</td>\n",
       "      <td>0</td>\n",
       "      <td>urban</td>\n",
       "      <td>46.00</td>\n",
       "    </tr>\n",
       "    <tr>\n",
       "      <th>4</th>\n",
       "      <td>5</td>\n",
       "      <td>0</td>\n",
       "      <td>urban</td>\n",
       "      <td>46.00</td>\n",
       "    </tr>\n",
       "    <tr>\n",
       "      <th>...</th>\n",
       "      <td>...</td>\n",
       "      <td>...</td>\n",
       "      <td>...</td>\n",
       "      <td>...</td>\n",
       "    </tr>\n",
       "    <tr>\n",
       "      <th>247</th>\n",
       "      <td>20</td>\n",
       "      <td>3000</td>\n",
       "      <td>grassland</td>\n",
       "      <td>28.90</td>\n",
       "    </tr>\n",
       "    <tr>\n",
       "      <th>248</th>\n",
       "      <td>25</td>\n",
       "      <td>3000</td>\n",
       "      <td>grassland</td>\n",
       "      <td>38.00</td>\n",
       "    </tr>\n",
       "    <tr>\n",
       "      <th>249</th>\n",
       "      <td>30</td>\n",
       "      <td>3000</td>\n",
       "      <td>grassland</td>\n",
       "      <td>37.00</td>\n",
       "    </tr>\n",
       "    <tr>\n",
       "      <th>250</th>\n",
       "      <td>35</td>\n",
       "      <td>3000</td>\n",
       "      <td>grassland</td>\n",
       "      <td>35.90</td>\n",
       "    </tr>\n",
       "    <tr>\n",
       "      <th>251</th>\n",
       "      <td>40</td>\n",
       "      <td>3000</td>\n",
       "      <td>grassland</td>\n",
       "      <td>33.10</td>\n",
       "    </tr>\n",
       "  </tbody>\n",
       "</table>\n",
       "<p>252 rows × 4 columns</p>\n",
       "</div>"
      ],
      "text/plain": [
       "     temperature  altitude environment_type  flight_time\n",
       "0            -15         0            urban        34.96\n",
       "1            -10         0            urban        38.64\n",
       "2             -5         0            urban        42.32\n",
       "3              0         0            urban        46.00\n",
       "4              5         0            urban        46.00\n",
       "..           ...       ...              ...          ...\n",
       "247           20      3000        grassland        28.90\n",
       "248           25      3000        grassland        38.00\n",
       "249           30      3000        grassland        37.00\n",
       "250           35      3000        grassland        35.90\n",
       "251           40      3000        grassland        33.10\n",
       "\n",
       "[252 rows x 4 columns]"
      ]
     },
     "execution_count": 60,
     "metadata": {},
     "output_type": "execute_result"
    }
   ],
   "source": [
    "data"
   ]
  },
  {
   "cell_type": "code",
   "execution_count": 61,
   "metadata": {},
   "outputs": [
    {
     "name": "stdout",
     "output_type": "stream",
     "text": [
      "\n",
      "数据预览（前5行）：\n",
      "   temperature  altitude environment_type  flight_time\n",
      "0          -15         0            urban        34.96\n",
      "1          -10         0            urban        38.64\n",
      "2           -5         0            urban        42.32\n",
      "3            0         0            urban        46.00\n",
      "4            5         0            urban        46.00\n"
     ]
    }
   ],
   "source": [
    "# 2. 数据预处理\n",
    "print(\"\\n数据预览（前5行）：\")\n",
    "print(data.head())\n",
    "\n",
    "# 处理缺失值（如果有）\n",
    "if data.isnull().sum().any():\n",
    "    print(\"\\n发现缺失值：\")\n",
    "    print(data.isnull().sum())\n",
    "    data = data.dropna()  # 简单处理：删除包含缺失值的行\n",
    "    print(\"已删除包含缺失值的行\")\n",
    "\n",
    "# 分离特征和目标变量\n",
    "X = data[['temperature', 'altitude', 'environment_type']]\n",
    "y = data['flight_time']\n"
   ]
  },
  {
   "cell_type": "code",
   "execution_count": 62,
   "metadata": {},
   "outputs": [
    {
     "name": "stdout",
     "output_type": "stream",
     "text": [
      "\n",
      "数据集划分：训练集 201 条，测试集 51 条\n"
     ]
    }
   ],
   "source": [
    "# 3. 划分训练集和测试集\n",
    "X_train, X_test, y_train, y_test = train_test_split(\n",
    "    X, y, \n",
    "    test_size=0.2, \n",
    "    random_state=42\n",
    ")\n",
    "print(f\"\\n数据集划分：训练集 {X_train.shape[0]} 条，测试集 {X_test.shape[0]} 条\")\n"
   ]
  },
  {
   "cell_type": "code",
   "execution_count": 63,
   "metadata": {},
   "outputs": [],
   "source": [
    "from sklearn.compose import ColumnTransformer\n",
    "# 4. 创建预处理和建模管道\n",
    "preprocessor = ColumnTransformer(\n",
    "    transformers=[\n",
    "        ('num', 'passthrough', ['temperature', 'altitude']),  # 数值特征直接保留\n",
    "        ('cat', OneHotEncoder(), ['environment_type'])  # 分类变量进行独热编码\n",
    "    ])\n",
    "\n",
    "model = Pipeline(steps=[\n",
    "    ('preprocessor', preprocessor),\n",
    "    ('regressor', RandomForestRegressor(\n",
    "        n_estimators=100,\n",
    "        random_state=42,\n",
    "        n_jobs=-1  # 使用所有CPU核心加速训练\n",
    "    ))\n",
    "])\n"
   ]
  },
  {
   "cell_type": "code",
   "execution_count": 64,
   "metadata": {},
   "outputs": [
    {
     "name": "stdout",
     "output_type": "stream",
     "text": [
      "\n",
      "开始训练模型...\n",
      "模型训练完成！\n"
     ]
    }
   ],
   "source": [
    "# 5. 训练模型\n",
    "print(\"\\n开始训练模型...\")\n",
    "model.fit(X_train, y_train)\n",
    "print(\"模型训练完成！\")"
   ]
  },
  {
   "cell_type": "code",
   "execution_count": 65,
   "metadata": {},
   "outputs": [
    {
     "name": "stdout",
     "output_type": "stream",
     "text": [
      "\n",
      "模型评估指标：\n",
      "- 平均绝对误差(MAE): 0.73 分钟\n",
      "- 均方误差(MSE): 0.86\n",
      "- 均方根误差(RMSE): 0.92 分钟\n",
      "- R²分数: 0.98\n"
     ]
    }
   ],
   "source": [
    "# 6. 模型评估\n",
    "y_pred = model.predict(X_test)\n",
    "\n",
    "print(\"\\n模型评估指标：\")\n",
    "print(f\"- 平均绝对误差(MAE): {mean_absolute_error(y_test, y_pred):.2f} 分钟\")\n",
    "print(f\"- 均方误差(MSE): {mean_squared_error(y_test, y_pred):.2f}\")\n",
    "print(f\"- 均方根误差(RMSE): {np.sqrt(mean_squared_error(y_test, y_pred)):.2f} 分钟\")\n",
    "print(f\"- R²分数: {r2_score(y_test, y_pred):.2f}\")\n"
   ]
  },
  {
   "cell_type": "code",
   "execution_count": 66,
   "metadata": {},
   "outputs": [
    {
     "name": "stdout",
     "output_type": "stream",
     "text": [
      "\n",
      "特征重要性排序：\n",
      "temperature: 0.5733\n",
      "environment_type_grassland: 0.2421\n",
      "altitude: 0.1626\n",
      "environment_type_urban: 0.0121\n",
      "environment_type_forest: 0.0099\n",
      "\n",
      "已保存特征重要性图表：feature_importance.png\n"
     ]
    },
    {
     "data": {
      "image/png": "[encoded data removed]",
      "text/plain": [
       "<Figure size 1000x500 with 1 Axes>"
      ]
     },
     "metadata": {},
     "output_type": "display_data"
    }
   ],
   "source": [
    "# 7. 特征重要性分析\n",
    "# 获取特征名称（包括独热编码后的类别特征）\n",
    "numeric_features = ['temperature', 'altitude']\n",
    "categorical_features = model.named_steps['preprocessor'].named_transformers_['cat'].get_feature_names_out(['environment_type'])\n",
    "feature_names = numeric_features + list(categorical_features)\n",
    "\n",
    "importances = model.named_steps['regressor'].feature_importances_\n",
    "\n",
    "print(\"\\n特征重要性排序：\")\n",
    "for name, importance in sorted(zip(feature_names, importances), key=lambda x: x[1], reverse=True):\n",
    "    print(f\"{name}: {importance:.4f}\")\n",
    "    # 可视化特征重要性\n",
    "plt.figure(figsize=(10, 5))\n",
    "plt.barh(feature_names, importances)\n",
    "plt.xlabel(\"Importance Score\")\n",
    "plt.title(\"Feature Importance\")\n",
    "plt.gca().invert_yaxis()  # 重要性从高到低显示\n",
    "plt.tight_layout()\n",
    "plt.savefig(\"feature_importance.png\")  # 保存图表\n",
    "print(\"\\n已保存特征重要性图表：feature_importance.png\")\n"
   ]
  },
  {
   "cell_type": "code",
   "execution_count": 67,
   "metadata": {},
   "outputs": [
    {
     "name": "stdout",
     "output_type": "stream",
     "text": [
      "\n",
      "已保存训练好的模型：drone_flight_time_predictor.pkl\n"
     ]
    }
   ],
   "source": [
    "# 8. 保存模型\n",
    "joblib.dump(model, \"drone_flight_time_predictor.pkl\")\n",
    "print(\"\\n已保存训练好的模型：drone_flight_time_predictor.pkl\")\n"
   ]
  },
  {
   "cell_type": "code",
   "execution_count": null,
   "metadata": {},
   "outputs": [
    {
     "ename": "ValueError",
     "evalue": "All arrays must be of the same length",
     "output_type": "error",
     "traceback": [
      "\u001b[31m---------------------------------------------------------------------------\u001b[39m",
      "\u001b[31mValueError\u001b[39m                                Traceback (most recent call last)",
      "\u001b[36mCell\u001b[39m\u001b[36m \u001b[39m\u001b[32mIn[71]\u001b[39m\u001b[32m, line 2\u001b[39m\n\u001b[32m      1\u001b[39m  \u001b[38;5;66;03m# 9. 使用模型进行新数据预测\u001b[39;00m\n\u001b[32m----> \u001b[39m\u001b[32m2\u001b[39m new_data = \u001b[43mpd\u001b[49m\u001b[43m.\u001b[49m\u001b[43mDataFrame\u001b[49m\u001b[43m(\u001b[49m\u001b[43m{\u001b[49m\n\u001b[32m      3\u001b[39m \u001b[43m     \u001b[49m\u001b[33;43m'\u001b[39;49m\u001b[33;43mtemperature\u001b[39;49m\u001b[33;43m'\u001b[39;49m\u001b[43m:\u001b[49m\u001b[43m \u001b[49m\u001b[43m[\u001b[49m\u001b[43m-\u001b[49m\u001b[32;43m15\u001b[39;49m\u001b[43m,\u001b[49m\u001b[43m-\u001b[49m\u001b[32;43m10\u001b[39;49m\u001b[43m,\u001b[49m\u001b[43m-\u001b[49m\u001b[32;43m5\u001b[39;49m\u001b[43m,\u001b[49m\u001b[32;43m0\u001b[39;49m\u001b[43m,\u001b[49m\u001b[32;43m5\u001b[39;49m\u001b[43m,\u001b[49m\u001b[32;43m10\u001b[39;49m\u001b[43m,\u001b[49m\u001b[32;43m15\u001b[39;49m\u001b[43m,\u001b[49m\u001b[32;43m20\u001b[39;49m\u001b[43m,\u001b[49m\u001b[32;43m25\u001b[39;49m\u001b[43m,\u001b[49m\u001b[32;43m30\u001b[39;49m\u001b[43m,\u001b[49m\u001b[32;43m35\u001b[39;49m\u001b[43m,\u001b[49m\u001b[32;43m40\u001b[39;49m\u001b[43m]\u001b[49m\u001b[43m,\u001b[49m\u001b[43m  \u001b[49m\u001b[38;5;66;43;03m# 温度(℃)\u001b[39;49;00m\n\u001b[32m      4\u001b[39m \u001b[43m     \u001b[49m\u001b[33;43m'\u001b[39;49m\u001b[33;43maltitude\u001b[39;49m\u001b[33;43m'\u001b[39;49m\u001b[43m:\u001b[49m\u001b[43m \u001b[49m\u001b[43m[\u001b[49m\u001b[32;43m0\u001b[39;49m\u001b[43m,\u001b[49m\u001b[32;43m500\u001b[39;49m\u001b[43m,\u001b[49m\u001b[32;43m1000\u001b[39;49m\u001b[43m,\u001b[49m\u001b[32;43m1500\u001b[39;49m\u001b[43m,\u001b[49m\u001b[32;43m2000\u001b[39;49m\u001b[43m,\u001b[49m\u001b[43m \u001b[49m\u001b[32;43m2500\u001b[39;49m\u001b[43m,\u001b[49m\u001b[32;43m3000\u001b[39;49m\u001b[43m]\u001b[49m\u001b[43m,\u001b[49m\u001b[43m  \u001b[49m\u001b[38;5;66;43;03m# 海拔(m)\u001b[39;49;00m\n\u001b[32m      5\u001b[39m \u001b[43m     \u001b[49m\u001b[33;43m'\u001b[39;49m\u001b[33;43menvironment_type\u001b[39;49m\u001b[33;43m'\u001b[39;49m\u001b[43m:\u001b[49m\u001b[43m \u001b[49m\u001b[43m[\u001b[49m\u001b[33;43m'\u001b[39;49m\u001b[33;43murban\u001b[39;49m\u001b[33;43m'\u001b[39;49m\u001b[43m,\u001b[49m\u001b[43m \u001b[49m\u001b[33;43m'\u001b[39;49m\u001b[33;43mforest\u001b[39;49m\u001b[33;43m'\u001b[39;49m\u001b[43m,\u001b[49m\u001b[43m \u001b[49m\u001b[33;43m'\u001b[39;49m\u001b[33;43mgrassland\u001b[39;49m\u001b[33;43m'\u001b[39;49m\u001b[43m]\u001b[49m\u001b[43m  \u001b[49m\u001b[38;5;66;43;03m# 环境类型\u001b[39;49;00m\n\u001b[32m      6\u001b[39m \u001b[43m \u001b[49m\u001b[43m}\u001b[49m\u001b[43m)\u001b[49m\n\u001b[32m      7\u001b[39m predicted_times = model.predict(new_data)\n\u001b[32m      8\u001b[39m \u001b[38;5;28mprint\u001b[39m(\u001b[33m\"\u001b[39m\u001b[38;5;130;01m\\n\u001b[39;00m\u001b[33m新数据预测结果：\u001b[39m\u001b[33m\"\u001b[39m)\n",
      "\u001b[36mFile \u001b[39m\u001b[32mc:\\Users\\lenovo\\AppData\\Local\\Programs\\Python\\Python313\\Lib\\site-packages\\pandas\\core\\frame.py:778\u001b[39m, in \u001b[36mDataFrame.__init__\u001b[39m\u001b[34m(self, data, index, columns, dtype, copy)\u001b[39m\n\u001b[32m    772\u001b[39m     mgr = \u001b[38;5;28mself\u001b[39m._init_mgr(\n\u001b[32m    773\u001b[39m         data, axes={\u001b[33m\"\u001b[39m\u001b[33mindex\u001b[39m\u001b[33m\"\u001b[39m: index, \u001b[33m\"\u001b[39m\u001b[33mcolumns\u001b[39m\u001b[33m\"\u001b[39m: columns}, dtype=dtype, copy=copy\n\u001b[32m    774\u001b[39m     )\n\u001b[32m    776\u001b[39m \u001b[38;5;28;01melif\u001b[39;00m \u001b[38;5;28misinstance\u001b[39m(data, \u001b[38;5;28mdict\u001b[39m):\n\u001b[32m    777\u001b[39m     \u001b[38;5;66;03m# GH#38939 de facto copy defaults to False only in non-dict cases\u001b[39;00m\n\u001b[32m--> \u001b[39m\u001b[32m778\u001b[39m     mgr = \u001b[43mdict_to_mgr\u001b[49m\u001b[43m(\u001b[49m\u001b[43mdata\u001b[49m\u001b[43m,\u001b[49m\u001b[43m \u001b[49m\u001b[43mindex\u001b[49m\u001b[43m,\u001b[49m\u001b[43m \u001b[49m\u001b[43mcolumns\u001b[49m\u001b[43m,\u001b[49m\u001b[43m \u001b[49m\u001b[43mdtype\u001b[49m\u001b[43m=\u001b[49m\u001b[43mdtype\u001b[49m\u001b[43m,\u001b[49m\u001b[43m \u001b[49m\u001b[43mcopy\u001b[49m\u001b[43m=\u001b[49m\u001b[43mcopy\u001b[49m\u001b[43m,\u001b[49m\u001b[43m \u001b[49m\u001b[43mtyp\u001b[49m\u001b[43m=\u001b[49m\u001b[43mmanager\u001b[49m\u001b[43m)\u001b[49m\n\u001b[32m    779\u001b[39m \u001b[38;5;28;01melif\u001b[39;00m \u001b[38;5;28misinstance\u001b[39m(data, ma.MaskedArray):\n\u001b[32m    780\u001b[39m     \u001b[38;5;28;01mfrom\u001b[39;00m\u001b[38;5;250m \u001b[39m\u001b[34;01mnumpy\u001b[39;00m\u001b[34;01m.\u001b[39;00m\u001b[34;01mma\u001b[39;00m\u001b[38;5;250m \u001b[39m\u001b[38;5;28;01mimport\u001b[39;00m mrecords\n",
      "\u001b[36mFile \u001b[39m\u001b[32mc:\\Users\\lenovo\\AppData\\Local\\Programs\\Python\\Python313\\Lib\\site-packages\\pandas\\core\\internals\\construction.py:503\u001b[39m, in \u001b[36mdict_to_mgr\u001b[39m\u001b[34m(data, index, columns, dtype, typ, copy)\u001b[39m\n\u001b[32m    499\u001b[39m     \u001b[38;5;28;01melse\u001b[39;00m:\n\u001b[32m    500\u001b[39m         \u001b[38;5;66;03m# dtype check to exclude e.g. range objects, scalars\u001b[39;00m\n\u001b[32m    501\u001b[39m         arrays = [x.copy() \u001b[38;5;28;01mif\u001b[39;00m \u001b[38;5;28mhasattr\u001b[39m(x, \u001b[33m\"\u001b[39m\u001b[33mdtype\u001b[39m\u001b[33m\"\u001b[39m) \u001b[38;5;28;01melse\u001b[39;00m x \u001b[38;5;28;01mfor\u001b[39;00m x \u001b[38;5;129;01min\u001b[39;00m arrays]\n\u001b[32m--> \u001b[39m\u001b[32m503\u001b[39m \u001b[38;5;28;01mreturn\u001b[39;00m \u001b[43marrays_to_mgr\u001b[49m\u001b[43m(\u001b[49m\u001b[43marrays\u001b[49m\u001b[43m,\u001b[49m\u001b[43m \u001b[49m\u001b[43mcolumns\u001b[49m\u001b[43m,\u001b[49m\u001b[43m \u001b[49m\u001b[43mindex\u001b[49m\u001b[43m,\u001b[49m\u001b[43m \u001b[49m\u001b[43mdtype\u001b[49m\u001b[43m=\u001b[49m\u001b[43mdtype\u001b[49m\u001b[43m,\u001b[49m\u001b[43m \u001b[49m\u001b[43mtyp\u001b[49m\u001b[43m=\u001b[49m\u001b[43mtyp\u001b[49m\u001b[43m,\u001b[49m\u001b[43m \u001b[49m\u001b[43mconsolidate\u001b[49m\u001b[43m=\u001b[49m\u001b[43mcopy\u001b[49m\u001b[43m)\u001b[49m\n",
      "\u001b[36mFile \u001b[39m\u001b[32mc:\\Users\\lenovo\\AppData\\Local\\Programs\\Python\\Python313\\Lib\\site-packages\\pandas\\core\\internals\\construction.py:114\u001b[39m, in \u001b[36marrays_to_mgr\u001b[39m\u001b[34m(arrays, columns, index, dtype, verify_integrity, typ, consolidate)\u001b[39m\n\u001b[32m    111\u001b[39m \u001b[38;5;28;01mif\u001b[39;00m verify_integrity:\n\u001b[32m    112\u001b[39m     \u001b[38;5;66;03m# figure out the index, if necessary\u001b[39;00m\n\u001b[32m    113\u001b[39m     \u001b[38;5;28;01mif\u001b[39;00m index \u001b[38;5;129;01mis\u001b[39;00m \u001b[38;5;28;01mNone\u001b[39;00m:\n\u001b[32m--> \u001b[39m\u001b[32m114\u001b[39m         index = \u001b[43m_extract_index\u001b[49m\u001b[43m(\u001b[49m\u001b[43marrays\u001b[49m\u001b[43m)\u001b[49m\n\u001b[32m    115\u001b[39m     \u001b[38;5;28;01melse\u001b[39;00m:\n\u001b[32m    116\u001b[39m         index = ensure_index(index)\n",
      "\u001b[36mFile \u001b[39m\u001b[32mc:\\Users\\lenovo\\AppData\\Local\\Programs\\Python\\Python313\\Lib\\site-packages\\pandas\\core\\internals\\construction.py:677\u001b[39m, in \u001b[36m_extract_index\u001b[39m\u001b[34m(data)\u001b[39m\n\u001b[32m    675\u001b[39m lengths = \u001b[38;5;28mlist\u001b[39m(\u001b[38;5;28mset\u001b[39m(raw_lengths))\n\u001b[32m    676\u001b[39m \u001b[38;5;28;01mif\u001b[39;00m \u001b[38;5;28mlen\u001b[39m(lengths) > \u001b[32m1\u001b[39m:\n\u001b[32m--> \u001b[39m\u001b[32m677\u001b[39m     \u001b[38;5;28;01mraise\u001b[39;00m \u001b[38;5;167;01mValueError\u001b[39;00m(\u001b[33m\"\u001b[39m\u001b[33mAll arrays must be of the same length\u001b[39m\u001b[33m\"\u001b[39m)\n\u001b[32m    679\u001b[39m \u001b[38;5;28;01mif\u001b[39;00m have_dicts:\n\u001b[32m    680\u001b[39m     \u001b[38;5;28;01mraise\u001b[39;00m \u001b[38;5;167;01mValueError\u001b[39;00m(\n\u001b[32m    681\u001b[39m         \u001b[33m\"\u001b[39m\u001b[33mMixing dicts with non-Series may lead to ambiguous ordering.\u001b[39m\u001b[33m\"\u001b[39m\n\u001b[32m    682\u001b[39m     )\n",
      "\u001b[31mValueError\u001b[39m: All arrays must be of the same length"
     ]
    }
   ],
   "source": [
    "#  # 9. 使用模型进行新数据预测\n",
    "# new_data = pd.DataFrame({\n",
    "#      'temperature': [-15,-10,-5,0,5,10,15,20,25,30,35,40],  # 温度(℃)\n",
    "#      'altitude': [0,500,1000,1500,2000, 2500,3000],  # 海拔(m)\n",
    "#      'environment_type': ['urban', 'forest', 'grassland']  # 环境类型\n",
    "#  })\n",
    "# predicted_times = model.predict(new_data)\n",
    "# print(\"\\n新数据预测结果：\")\n",
    "# for i, row in new_data.iterrows():\n",
    "#      print(f\"情况{i+1}: 温度={row['temperature']}℃, 海拔={row['altitude']}m, 环境={row['environment_type']} → 预测续航: {predicted_times[i]:.1f} 分钟\")\n",
    "\n",
    "#  # 显示图表（如果是在Jupyter Notebook中运行）\n",
    "# plt.show()"
   ]
  },
  {
   "cell_type": "code",
   "execution_count": 70,
   "metadata": {},
   "outputs": [
    {
     "name": "stdout",
     "output_type": "stream",
     "text": [
      "\n",
      "新数据预测结果（前10条）：\n",
      "组合1: 温度=-15℃, 海拔=0m, 环境=urban → 预测续航: 33.8 分钟\n",
      "组合2: 温度=-15℃, 海拔=0m, 环境=forest → 预测续航: 28.7 分钟\n",
      "组合3: 温度=-15℃, 海拔=0m, 环境=grassland → 预测续航: 20.6 分钟\n",
      "组合4: 温度=-15℃, 海拔=500m, 环境=urban → 预测续航: 32.9 分钟\n",
      "组合5: 温度=-15℃, 海拔=500m, 环境=forest → 预测续航: 28.8 分钟\n",
      "组合6: 温度=-15℃, 海拔=500m, 环境=grassland → 预测续航: 20.4 分钟\n",
      "组合7: 温度=-15℃, 海拔=1000m, 环境=urban → 预测续航: 30.7 分钟\n",
      "组合8: 温度=-15℃, 海拔=1000m, 环境=forest → 预测续航: 26.6 分钟\n",
      "组合9: 温度=-15℃, 海拔=1000m, 环境=grassland → 预测续航: 19.8 分钟\n",
      "组合10: 温度=-15℃, 海拔=1500m, 环境=urban → 预测续航: 28.8 分钟\n",
      "\n",
      "已保存所有预测结果到: all_predictions.csv\n"
     ]
    }
   ],
   "source": [
    "from itertools import product\n",
    "# 9. 使用模型进行新数据预测\n",
    "temperatures = [-15, -10, -5, 0, 5, 10, 15, 20, 25, 30, 35, 40]\n",
    "altitudes = [0, 500, 1000, 1500, 2000, 2500, 3000]\n",
    "environments = ['urban', 'forest', 'grassland']\n",
    "\n",
    "# 生成所有组合\n",
    "combinations = list(product(temperatures, altitudes, environments))\n",
    "new_data = pd.DataFrame(combinations, columns=['temperature', 'altitude', 'environment_type'])\n",
    "\n",
    "# 预测并打印结果\n",
    "predicted_times = model.predict(new_data)\n",
    "print(\"\\n新数据预测结果（前10条）：\")\n",
    "for i in range(10):  # 仅显示前10条结果\n",
    "    row = new_data.iloc[i]\n",
    "    print(f\"组合{i+1}: 温度={row['temperature']}℃, 海拔={row['altitude']}m, 环境={row['environment_type']} → 预测续航: {predicted_times[i]:.1f} 分钟\")\n",
    "\n",
    "# 保存所有预测结果到CSV（可选）\n",
    "results = new_data.copy()\n",
    "results['predicted_flight_time'] = predicted_times\n",
    "results.to_csv(\"all_predictions.csv\", index=False)\n",
    "print(\"\\n已保存所有预测结果到: all_predictions.csv\")"
   ]
  },
  {
   "cell_type": "code",
   "execution_count": null,
   "metadata": {},
   "outputs": [
    {
     "name": "stdout",
     "output_type": "stream",
     "text": [
      "填充后的新数据：\n",
      "    temperature  altitude environment_type\n",
      "0           -15       0.0            urban\n",
      "1           -10     500.0           forest\n",
      "2            -5    1000.0        grassland\n",
      "3             0    1500.0              NaN\n",
      "4             5    2000.0              NaN\n",
      "5            10    2500.0              NaN\n",
      "6            15    3000.0              NaN\n",
      "7            20       NaN              NaN\n",
      "8            25       NaN              NaN\n",
      "9            30       NaN              NaN\n",
      "10           35       NaN              NaN\n",
      "11           40       NaN              NaN\n",
      "\n",
      "有效数据预测结果：\n",
      "温度=-15℃, 海拔=0.0m, 环境=urban → 预测续航: 33.8 分钟\n",
      "温度=-10℃, 海拔=500.0m, 环境=forest → 预测续航: 33.6 分钟\n",
      "温度=-5℃, 海拔=1000.0m, 环境=grassland → 预测续航: 24.0 分钟\n"
     ]
    }
   ],
   "source": [
    "# # 原始数据（长度不一致）\n",
    "# new_data = {\n",
    "#     'temperature': [-15, -10, -5, 0, 5, 10, 15, 20, 25, 30, 35, 40],  # 12个值\n",
    "#     'altitude': [0, 500, 1000, 1500, 2000, 2500, 3000],               # 7个值\n",
    "#     'environment_type': ['urban', 'forest', 'grassland']               # 3个值\n",
    "# }\n",
    "\n",
    "# # 用NaN填充较短列，使所有列长度一致（以最长列为准）\n",
    "# max_length = max(len(v) for v in new_data.values())\n",
    "# for key in new_data:\n",
    "#     if len(new_data[key]) < max_length:\n",
    "#         new_data[key] += [np.nan] * (max_length - len(new_data[key]))\n",
    "\n",
    "# # 转换为DataFrame\n",
    "# new_data = pd.DataFrame(new_data)\n",
    "\n",
    "# # 打印检查\n",
    "# print(\"填充后的新数据：\")\n",
    "# print(new_data)\n",
    "\n",
    "# # 预测（注意：NaN值会导致预测失败，需先删除或填充）\n",
    "# valid_data = new_data.dropna()  # 删除包含NaN的行\n",
    "# if not valid_data.empty:\n",
    "#     predicted_times = model.predict(valid_data)\n",
    "#     print(\"\\n有效数据预测结果：\")\n",
    "#     for i, row in valid_data.iterrows():\n",
    "#         print(f\"温度={row['temperature']}℃, 海拔={row['altitude']}m, 环境={row['environment_type']} → 预测续航: {predicted_times[i]:.1f} 分钟\")\n",
    "# else:\n",
    "#     print(\"\\n警告：所有数据均包含NaN，无法预测！\")"
   ]
  }
 ],
 "metadata": {
  "kernelspec": {
   "display_name": "Python 3",
   "language": "python",
   "name": "python3"
  },
  "language_info": {
   "codemirror_mode": {
    "name": "ipython",
    "version": 3
   },
   "file_extension": ".py",
   "mimetype": "text/x-python",
   "name": "python",
   "nbconvert_exporter": "python",
   "pygments_lexer": "ipython3",
   "version": "3.13.2"
  }
 },
 "nbformat": 4,
 "nbformat_minor": 2
}
